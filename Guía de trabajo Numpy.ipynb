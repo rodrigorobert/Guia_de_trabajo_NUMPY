{
 "cells": [
  {
   "cell_type": "markdown",
   "metadata": {
    "id": "aC8noEjpJfEt"
   },
   "source": [
    "1. Crear un vector con valores dentro del rango 10 a 49."
   ]
  },
  {
   "cell_type": "code",
   "execution_count": 3,
   "metadata": {
    "executionInfo": {
     "elapsed": 260,
     "status": "ok",
     "timestamp": 1641075080532,
     "user": {
      "displayName": "William Wallace",
      "photoUrl": "https://lh3.googleusercontent.com/a/default-user=s64",
      "userId": "02462327362597608294"
     },
     "user_tz": 180
    },
    "id": "OqN_Lvd2Jld-"
   },
   "outputs": [],
   "source": [
    "import numpy as np"
   ]
  },
  {
   "cell_type": "code",
   "execution_count": 4,
   "metadata": {
    "colab": {
     "base_uri": "https://localhost:8080/"
    },
    "executionInfo": {
     "elapsed": 500,
     "status": "ok",
     "timestamp": 1640990717805,
     "user": {
      "displayName": "William Wallace",
      "photoUrl": "https://lh3.googleusercontent.com/a/default-user=s64",
      "userId": "02462327362597608294"
     },
     "user_tz": 180
    },
    "id": "FY-MAG42KAls",
    "outputId": "22a1c200-0e54-4033-83ae-28387ad9fda2"
   },
   "outputs": [
    {
     "data": {
      "text/plain": [
       "array([ 0,  1,  2,  3,  4,  5,  6,  7,  8,  9, 10, 11, 12, 13, 14, 15, 16,\n",
       "       17, 18, 19, 20, 21, 22, 23, 24, 25, 26, 27, 28, 29, 30, 31, 32, 33,\n",
       "       34, 35, 36, 37, 38, 39, 40, 41, 42, 43, 44, 45, 46, 47, 48, 49])"
      ]
     },
     "execution_count": 4,
     "metadata": {},
     "output_type": "execute_result"
    }
   ],
   "source": [
    "vector1 = np.arange(50)\n",
    "vector1"
   ]
  },
  {
   "cell_type": "markdown",
   "metadata": {
    "id": "BgNOOP0OL6p5"
   },
   "source": [
    "2. Invertir el vector creado en el ejercicio 1."
   ]
  },
  {
   "cell_type": "code",
   "execution_count": 5,
   "metadata": {
    "colab": {
     "base_uri": "https://localhost:8080/"
    },
    "executionInfo": {
     "elapsed": 270,
     "status": "ok",
     "timestamp": 1640982874106,
     "user": {
      "displayName": "William Wallace",
      "photoUrl": "https://lh3.googleusercontent.com/a/default-user=s64",
      "userId": "02462327362597608294"
     },
     "user_tz": 180
    },
    "id": "fa-cUSWVL-qE",
    "outputId": "9e9a0718-e9ff-4b71-cc5b-de595c22076e"
   },
   "outputs": [
    {
     "data": {
      "text/plain": [
       "array([49, 48, 47, 46, 45, 44, 43, 42, 41, 40, 39, 38, 37, 36, 35, 34, 33,\n",
       "       32, 31, 30, 29, 28, 27, 26, 25, 24, 23, 22, 21, 20, 19, 18, 17, 16,\n",
       "       15, 14, 13, 12, 11, 10,  9,  8,  7,  6,  5,  4,  3,  2,  1,  0])"
      ]
     },
     "execution_count": 5,
     "metadata": {},
     "output_type": "execute_result"
    }
   ],
   "source": [
    "vector2 = vector1[::-1]\n",
    "vector2"
   ]
  },
  {
   "cell_type": "code",
   "execution_count": null,
   "metadata": {},
   "outputs": [],
   "source": [
    "#metodo flip que es como reverse en python"
   ]
  },
  {
   "cell_type": "markdown",
   "metadata": {
    "id": "wOU9K08ErK3C"
   },
   "source": [
    "3. Crear una matriz de 3x3 con los valores de 0 a 8.\n"
   ]
  },
  {
   "cell_type": "code",
   "execution_count": 6,
   "metadata": {
    "colab": {
     "base_uri": "https://localhost:8080/"
    },
    "executionInfo": {
     "elapsed": 239,
     "status": "ok",
     "timestamp": 1641075894447,
     "user": {
      "displayName": "William Wallace",
      "photoUrl": "https://lh3.googleusercontent.com/a/default-user=s64",
      "userId": "02462327362597608294"
     },
     "user_tz": 180
    },
    "id": "L8Ctfx9DrMKj",
    "outputId": "aa47f9b4-5cae-4663-9d2b-2846656d0d8b",
    "scrolled": false
   },
   "outputs": [
    {
     "data": {
      "text/plain": [
       "array([[0, 1, 2],\n",
       "       [3, 4, 5],\n",
       "       [6, 7, 8]])"
      ]
     },
     "execution_count": 6,
     "metadata": {},
     "output_type": "execute_result"
    }
   ],
   "source": [
    "matriz1 = np.array([[0,1,2],[3,4,5],[6,7,8]])\n",
    "matriz1"
   ]
  },
  {
   "cell_type": "code",
   "execution_count": null,
   "metadata": {},
   "outputs": [],
   "source": [
    "#metodo reshape 3,3"
   ]
  },
  {
   "cell_type": "markdown",
   "metadata": {
    "id": "kt6dkxH4sZT0"
   },
   "source": [
    "4. Encontrar los índices que no son ceros del arreglo [1,2,4,2,4,0,1,0,0,0,12,4,5,6,7,0].\n"
   ]
  },
  {
   "cell_type": "code",
   "execution_count": 7,
   "metadata": {
    "colab": {
     "base_uri": "https://localhost:8080/"
    },
    "executionInfo": {
     "elapsed": 237,
     "status": "ok",
     "timestamp": 1641075377375,
     "user": {
      "displayName": "William Wallace",
      "photoUrl": "https://lh3.googleusercontent.com/a/default-user=s64",
      "userId": "02462327362597608294"
     },
     "user_tz": 180
    },
    "id": "aPHdCrgXsdHC",
    "outputId": "a8342bb1-13e2-462c-bcfd-14f837ac0195"
   },
   "outputs": [
    {
     "name": "stdout",
     "output_type": "stream",
     "text": [
      "1\n",
      "2\n",
      "4\n",
      "2\n",
      "4\n",
      "1\n",
      "12\n",
      "4\n",
      "5\n",
      "6\n",
      "7\n"
     ]
    }
   ],
   "source": [
    "vector4 = np.array([1,2,4,2,4,0,1,0,0,0,12,4,5,6,7,0])\n",
    "\n",
    "for i in vector4:\n",
    "  if i != 0:\n",
    "    print(i)"
   ]
  },
  {
   "cell_type": "code",
   "execution_count": 8,
   "metadata": {
    "colab": {
     "base_uri": "https://localhost:8080/"
    },
    "executionInfo": {
     "elapsed": 260,
     "status": "ok",
     "timestamp": 1641077223715,
     "user": {
      "displayName": "William Wallace",
      "photoUrl": "https://lh3.googleusercontent.com/a/default-user=s64",
      "userId": "02462327362597608294"
     },
     "user_tz": 180
    },
    "id": "1ixgH6BQthsf",
    "outputId": "80ed0ddc-d425-48b0-9b13-9045875c8b9d"
   },
   "outputs": [
    {
     "data": {
      "text/plain": [
       "(array([ 0,  1,  2,  3,  4,  6, 10, 11, 12, 13, 14], dtype=int64),)"
      ]
     },
     "execution_count": 8,
     "metadata": {},
     "output_type": "execute_result"
    }
   ],
   "source": [
    "np.where(vector4 != 0)"
   ]
  },
  {
   "cell_type": "code",
   "execution_count": null,
   "metadata": {},
   "outputs": [],
   "source": [
    "#tb puede ser con el metodo np.argwhere() y np.nonzero()"
   ]
  },
  {
   "cell_type": "markdown",
   "metadata": {
    "id": "6nJuGJ2quqjA"
   },
   "source": [
    "5. Crear una matriz identidad de 6x6."
   ]
  },
  {
   "cell_type": "code",
   "execution_count": 9,
   "metadata": {
    "colab": {
     "base_uri": "https://localhost:8080/"
    },
    "executionInfo": {
     "elapsed": 12,
     "status": "ok",
     "timestamp": 1641075735648,
     "user": {
      "displayName": "William Wallace",
      "photoUrl": "https://lh3.googleusercontent.com/a/default-user=s64",
      "userId": "02462327362597608294"
     },
     "user_tz": 180
    },
    "id": "XYyV4avaur8Y",
    "outputId": "722fb4da-b46c-46a0-aa3a-7d3182f4b7fd"
   },
   "outputs": [
    {
     "data": {
      "text/plain": [
       "array([[1., 0., 0., 0., 0., 0.],\n",
       "       [0., 1., 0., 0., 0., 0.],\n",
       "       [0., 0., 1., 0., 0., 0.],\n",
       "       [0., 0., 0., 1., 0., 0.],\n",
       "       [0., 0., 0., 0., 1., 0.],\n",
       "       [0., 0., 0., 0., 0., 1.]])"
      ]
     },
     "execution_count": 9,
     "metadata": {},
     "output_type": "execute_result"
    }
   ],
   "source": [
    "identidad5 = np.identity(6)\n",
    "identidad5"
   ]
  },
  {
   "cell_type": "code",
   "execution_count": 10,
   "metadata": {
    "colab": {
     "base_uri": "https://localhost:8080/"
    },
    "executionInfo": {
     "elapsed": 267,
     "status": "ok",
     "timestamp": 1641075781567,
     "user": {
      "displayName": "William Wallace",
      "photoUrl": "https://lh3.googleusercontent.com/a/default-user=s64",
      "userId": "02462327362597608294"
     },
     "user_tz": 180
    },
    "id": "39rmsgE7vJIH",
    "outputId": "2a11edd1-8d6c-4799-9e70-379e4f732849"
   },
   "outputs": [
    {
     "data": {
      "text/plain": [
       "array([[1., 0., 0., 0., 0., 0.],\n",
       "       [0., 1., 0., 0., 0., 0.],\n",
       "       [0., 0., 1., 0., 0., 0.],\n",
       "       [0., 0., 0., 1., 0., 0.],\n",
       "       [0., 0., 0., 0., 1., 0.],\n",
       "       [0., 0., 0., 0., 0., 1.]])"
      ]
     },
     "execution_count": 10,
     "metadata": {},
     "output_type": "execute_result"
    }
   ],
   "source": [
    "identidad5 = np.eye(6)\n",
    "identidad5"
   ]
  },
  {
   "cell_type": "markdown",
   "metadata": {
    "id": "3K5Obzc3vVps"
   },
   "source": [
    "6. Encontrar los índices de los valores mínimos y máximos de la matriz creada en\n",
    "el ejercicio 3."
   ]
  },
  {
   "cell_type": "code",
   "execution_count": 12,
   "metadata": {
    "colab": {
     "base_uri": "https://localhost:8080/"
    },
    "executionInfo": {
     "elapsed": 246,
     "status": "ok",
     "timestamp": 1641077274761,
     "user": {
      "displayName": "William Wallace",
      "photoUrl": "https://lh3.googleusercontent.com/a/default-user=s64",
      "userId": "02462327362597608294"
     },
     "user_tz": 180
    },
    "id": "5TGcorLMvhP8",
    "outputId": "7c58de7e-599b-4af3-94eb-7f038b33b410"
   },
   "outputs": [
    {
     "name": "stdout",
     "output_type": "stream",
     "text": [
      "[[0 1 2]\n",
      " [3 4 5]\n",
      " [6 7 8]]\n",
      "0\n",
      "8\n",
      "(array([0], dtype=int64), array([0], dtype=int64))\n",
      "(array([2], dtype=int64), array([2], dtype=int64))\n"
     ]
    }
   ],
   "source": [
    "matriz6 = matriz1\n",
    "\n",
    "print(matriz6)\n",
    "\n",
    "Min = matriz6.min()\n",
    "Max = matriz6.max()\n",
    "\n",
    "print(Min)\n",
    "print(Max)\n",
    "\n",
    "resultmin = np.where(matriz6 == Min)\n",
    "resultmax = np.where(matriz6 == Max)\n",
    "\n",
    "print(resultmin)\n",
    "print(resultmax)"
   ]
  },
  {
   "cell_type": "markdown",
   "metadata": {
    "id": "1hrdvU-f1EEA"
   },
   "source": [
    "7. Crear una matriz de 10x10 con 1 en los bordes y 0 en el interior (con rangos de índices)."
   ]
  },
  {
   "cell_type": "code",
   "execution_count": 20,
   "metadata": {
    "id": "2gcK0KCC1Xo_"
   },
   "outputs": [
    {
     "data": {
      "text/plain": [
       "array([[1., 1., 1., 1., 1., 1., 1., 1., 1., 1.],\n",
       "       [1., 0., 0., 0., 0., 0., 0., 0., 0., 0.],\n",
       "       [1., 0., 0., 0., 0., 0., 0., 0., 0., 0.],\n",
       "       [1., 0., 0., 0., 0., 0., 0., 0., 0., 0.],\n",
       "       [1., 0., 0., 0., 0., 0., 0., 0., 0., 0.],\n",
       "       [1., 0., 0., 0., 0., 0., 0., 0., 0., 0.],\n",
       "       [1., 0., 0., 0., 0., 0., 0., 0., 0., 0.],\n",
       "       [1., 0., 0., 0., 0., 0., 0., 0., 0., 0.],\n",
       "       [1., 0., 0., 0., 0., 0., 0., 0., 0., 0.],\n",
       "       [1., 0., 0., 0., 0., 0., 0., 0., 0., 0.]])"
      ]
     },
     "execution_count": 20,
     "metadata": {},
     "output_type": "execute_result"
    }
   ],
   "source": [
    "matriz7 = np.zeros((10,10))\n",
    "\n",
    "matriz7[0:1] = 1\n",
    "\n",
    "matriz7[:, 0] = 1\n",
    "\n",
    "matriz7"
   ]
  },
  {
   "cell_type": "code",
   "execution_count": 13,
   "metadata": {},
   "outputs": [
    {
     "ename": "SyntaxError",
     "evalue": "invalid syntax (Temp/ipykernel_12708/1536090325.py, line 3)",
     "output_type": "error",
     "traceback": [
      "\u001b[1;36m  File \u001b[1;32m\"C:\\Users\\MEGATE~1\\AppData\\Local\\Temp/ipykernel_12708/1536090325.py\"\u001b[1;36m, line \u001b[1;32m3\u001b[0m\n\u001b[1;33m    matriz7 = [1:-1, 1:-1] = 0\u001b[0m\n\u001b[1;37m                ^\u001b[0m\n\u001b[1;31mSyntaxError\u001b[0m\u001b[1;31m:\u001b[0m invalid syntax\n"
     ]
    }
   ],
   "source": [
    "matriz7 = np.ones((10,10))\n",
    "\n",
    "matriz7 = [1:-1, 1:-1] = 0"
   ]
  },
  {
   "cell_type": "markdown",
   "metadata": {},
   "source": [
    "8. Crear una matriz de 5x5 con valores en los renglones que vayan de 0 a 4."
   ]
  },
  {
   "cell_type": "code",
   "execution_count": 27,
   "metadata": {},
   "outputs": [
    {
     "data": {
      "text/plain": [
       "array([[0., 1., 2., 3., 4.],\n",
       "       [0., 1., 2., 3., 4.],\n",
       "       [0., 1., 2., 3., 4.],\n",
       "       [0., 1., 2., 3., 4.],\n",
       "       [0., 1., 2., 3., 4.]])"
      ]
     },
     "execution_count": 27,
     "metadata": {},
     "output_type": "execute_result"
    }
   ],
   "source": [
    "matriz0 = np.zeros((5,5))\n",
    "\n",
    "matriz8 = np.array([0,1,2,3,4])\n",
    "\n",
    "matriz8 = matriz0 + matriz8\n",
    "\n",
    "matriz8\n"
   ]
  },
  {
   "cell_type": "code",
   "execution_count": 17,
   "metadata": {},
   "outputs": [
    {
     "ename": "TypeError",
     "evalue": "unsupported operand type(s) for -: 'int' and 'tuple'",
     "output_type": "error",
     "traceback": [
      "\u001b[1;31m---------------------------------------------------------------------------\u001b[0m",
      "\u001b[1;31mTypeError\u001b[0m                                 Traceback (most recent call last)",
      "\u001b[1;32mC:\\Users\\MEGATE~1\\AppData\\Local\\Temp/ipykernel_12708/1010309607.py\u001b[0m in \u001b[0;36m<module>\u001b[1;34m\u001b[0m\n\u001b[1;32m----> 1\u001b[1;33m \u001b[0mmatrizx\u001b[0m \u001b[1;33m=\u001b[0m \u001b[0mnp\u001b[0m\u001b[1;33m.\u001b[0m\u001b[0mtile\u001b[0m\u001b[1;33m(\u001b[0m\u001b[0mnp\u001b[0m\u001b[1;33m.\u001b[0m\u001b[0marange\u001b[0m\u001b[1;33m(\u001b[0m\u001b[1;33m(\u001b[0m\u001b[1;36m0\u001b[0m\u001b[1;33m,\u001b[0m\u001b[1;36m5\u001b[0m\u001b[1;33m)\u001b[0m\u001b[1;33m,\u001b[0m\u001b[1;36m5\u001b[0m\u001b[1;33m)\u001b[0m\u001b[1;33m.\u001b[0m\u001b[0mreshape\u001b[0m\u001b[1;33m(\u001b[0m\u001b[1;36m5\u001b[0m\u001b[1;33m,\u001b[0m\u001b[1;36m5\u001b[0m\u001b[1;33m)\u001b[0m\u001b[1;33m)\u001b[0m\u001b[1;33m\u001b[0m\u001b[1;33m\u001b[0m\u001b[0m\n\u001b[0m",
      "\u001b[1;31mTypeError\u001b[0m: unsupported operand type(s) for -: 'int' and 'tuple'"
     ]
    }
   ],
   "source": [
    "matrizx = np.tile(np.arange((0,5),5).reshape(5,5))"
   ]
  },
  {
   "cell_type": "markdown",
   "metadata": {},
   "source": [
    "9. Crear dos arreglos al azar A y B, verificar si son iguales."
   ]
  },
  {
   "cell_type": "code",
   "execution_count": 42,
   "metadata": {},
   "outputs": [
    {
     "name": "stdout",
     "output_type": "stream",
     "text": [
      "no lo son\n"
     ]
    }
   ],
   "source": [
    "arregloA = np.random.rand(3,2)\n",
    "arregloB = np.random.rand(3,2)\n",
    "\n",
    "if arregloA.all == arregloB.all:\n",
    "    print('son iguales')\n",
    "else:\n",
    "    print('no lo son')\n",
    "\n"
   ]
  },
  {
   "cell_type": "code",
   "execution_count": null,
   "metadata": {},
   "outputs": [],
   "source": [
    "#método equal"
   ]
  },
  {
   "cell_type": "markdown",
   "metadata": {},
   "source": [
    "10.Crear una matriz de 20x20 de valores aleatorios entre 1 y 100, luego indicar su media, su mediana, su moda y el desvío estándar. Los valores que den como resultado flotantes deben tener como máximo 2 decimales."
   ]
  },
  {
   "cell_type": "code",
   "execution_count": 62,
   "metadata": {},
   "outputs": [
    {
     "name": "stdout",
     "output_type": "stream",
     "text": [
      "la media es 55.01\n",
      "la mediana es 56.0\n",
      "la moda es 25\n",
      "la ds es 28.56\n"
     ]
    }
   ],
   "source": [
    "matriz10 = np.random.randint(low=1, high=101, size=(20,20), dtype=int)\n",
    "\n",
    "media = round(np.mean(matriz10),2)\n",
    "\n",
    "mediana = round(np.median(matriz10),2)\n",
    "\n",
    "import statistics as stat\n",
    "\n",
    "moda = matriz10.flatten()\n",
    "\n",
    "moda = round(stat.mode(moda),2)\n",
    "\n",
    "std = round(np.std(matriz10),2)\n",
    "\n",
    "\n",
    "print(f'la media es {media}')\n",
    "print(f'la mediana es {mediana}')\n",
    "print(f'la moda es {moda}')\n",
    "print(f'la ds es {std}')"
   ]
  },
  {
   "cell_type": "markdown",
   "metadata": {},
   "source": [
    "11.Crear dos arreglos de 4 elementos enteros y hacer las siguientes operaciones: sumarlos, restarle el segundo al primero, multiplicarlos, dividir el primero por el segundo. Hacerlo utilizando métodos."
   ]
  },
  {
   "cell_type": "code",
   "execution_count": 68,
   "metadata": {},
   "outputs": [
    {
     "name": "stdout",
     "output_type": "stream",
     "text": [
      "[[ 5  7]\n",
      " [ 9 11]]\n",
      "[[3 3]\n",
      " [3 3]]\n",
      "[[ 4 10]\n",
      " [18 28]]\n",
      "[[0.25       0.4       ]\n",
      " [0.5        0.57142857]]\n"
     ]
    }
   ],
   "source": [
    "arreglo1 = np.array([[1,2],[3,4]])\n",
    "arreglo2 = np.array([[4,5],[6,7]])\n",
    "\n",
    "suma = np.add(arreglo1, arreglo2)\n",
    "resta = np.subtract(arreglo2, arreglo1)\n",
    "mul = np.multiply(arreglo1, arreglo2)\n",
    "div = np.divide(arreglo1, arreglo2)\n",
    "\n",
    "print(suma)\n",
    "print(resta)\n",
    "print(mul)\n",
    "print(div)"
   ]
  },
  {
   "cell_type": "markdown",
   "metadata": {},
   "source": [
    "12.Crear una matriz de 4x4 de valores aleatorios entre 1 y 10, y luego agregarle una fila de 0s al final.+"
   ]
  },
  {
   "cell_type": "code",
   "execution_count": 75,
   "metadata": {},
   "outputs": [
    {
     "name": "stdout",
     "output_type": "stream",
     "text": [
      "[[ 6  6  2  4]\n",
      " [ 9  2  4  1]\n",
      " [ 3  5 10  7]\n",
      " [ 1  9  7  4]]\n"
     ]
    },
    {
     "data": {
      "text/plain": [
       "array([[ 6,  6,  2,  4],\n",
       "       [ 9,  2,  4,  1],\n",
       "       [ 3,  5, 10,  7],\n",
       "       [ 1,  9,  7,  4],\n",
       "       [ 0,  0,  0,  0]])"
      ]
     },
     "execution_count": 75,
     "metadata": {},
     "output_type": "execute_result"
    }
   ],
   "source": [
    "matriz12 = np.random.randint(low=1, high=11, size=(4,4), dtype=int)\n",
    "\n",
    "print(matriz12)\n",
    "\n",
    "fila = np.array([0,0,0,0])\n",
    "\n",
    "matriz12 = np.append(matriz12,[fila],axis= 0)\n",
    "\n",
    "matriz12"
   ]
  },
  {
   "cell_type": "code",
   "execution_count": null,
   "metadata": {},
   "outputs": [],
   "source": [
    "# metodo np.vstak"
   ]
  },
  {
   "cell_type": "markdown",
   "metadata": {},
   "source": [
    "13.Crear dos arreglos de 6 elementos de valores aleatorios entre 0 y 1 y luego realizar las operaciones lógicas and y or con los métodos de NumPy."
   ]
  },
  {
   "cell_type": "code",
   "execution_count": 20,
   "metadata": {},
   "outputs": [
    {
     "name": "stdout",
     "output_type": "stream",
     "text": [
      "[[0 0 0 0 0 0]]\n",
      "[[0 1 0 0 1 1]]\n",
      "[[False False False False False False]]\n",
      "[[False  True False False  True  True]]\n"
     ]
    }
   ],
   "source": [
    "matriz13a = np.random.randint(low=0, high=1, size=(1,6), dtype=int)\n",
    "\n",
    "matriz13b = np.random.randint(low=0, high=2, size=(1,6), dtype=int)\n",
    "\n",
    "And = np.logical_and(matriz13a, matriz13b)\n",
    "Or = np.logical_or(matriz13a, matriz13b)\n",
    "\n",
    "print(matriz13a)\n",
    "print(matriz13b)\n",
    "\n",
    "print(And)\n",
    "print(Or)"
   ]
  },
  {
   "cell_type": "markdown",
   "metadata": {},
   "source": [
    "14.Crear un arreglo de 4 elementos de entre 0 y 10, informar la cantidad de elementos que tiene y también cuántos bytes ocupa el arreglo."
   ]
  },
  {
   "cell_type": "code",
   "execution_count": 22,
   "metadata": {},
   "outputs": [
    {
     "name": "stdout",
     "output_type": "stream",
     "text": [
      "[[7 0 1 9]]\n",
      "4\n",
      "16\n"
     ]
    }
   ],
   "source": [
    "matriz14 = np.random.randint(low=0, high=11, size=(1,4), dtype=int)\n",
    "\n",
    "print(matriz14)\n",
    "print(matriz14.size)\n",
    "print(matriz14.nbytes)"
   ]
  },
  {
   "cell_type": "code",
   "execution_count": null,
   "metadata": {},
   "outputs": [],
   "source": []
  }
 ],
 "metadata": {
  "colab": {
   "authorship_tag": "ABX9TyPc6uXAV2qPpoU9ENCpM6k7",
   "name": "Untitled0.ipynb",
   "provenance": []
  },
  "kernelspec": {
   "display_name": "Python 3 (ipykernel)",
   "language": "python",
   "name": "python3"
  },
  "language_info": {
   "codemirror_mode": {
    "name": "ipython",
    "version": 3
   },
   "file_extension": ".py",
   "mimetype": "text/x-python",
   "name": "python",
   "nbconvert_exporter": "python",
   "pygments_lexer": "ipython3",
   "version": "3.9.7"
  }
 },
 "nbformat": 4,
 "nbformat_minor": 1
}
